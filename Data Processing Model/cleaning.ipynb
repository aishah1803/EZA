{
  "nbformat": 4,
  "nbformat_minor": 0,
  "metadata": {
    "colab": {
      "provenance": []
    },
    "kernelspec": {
      "name": "python3",
      "display_name": "Python 3"
    },
    "language_info": {
      "name": "python"
    }
  },
  "cells": [
    {
      "cell_type": "code",
      "source": [
        "!pip install pandas numpy textblob nltk openpyxl"
      ],
      "metadata": {
        "colab": {
          "base_uri": "https://localhost:8080/"
        },
        "collapsed": true,
        "id": "erqXIIykpupn",
        "outputId": "2ef99611-b56f-4d3b-e671-2b1ae37ffb66"
      },
      "execution_count": null,
      "outputs": [
        {
          "output_type": "stream",
          "name": "stdout",
          "text": [
            "Requirement already satisfied: pandas in /usr/local/lib/python3.11/dist-packages (2.2.2)\n",
            "Requirement already satisfied: numpy in /usr/local/lib/python3.11/dist-packages (2.0.2)\n",
            "Requirement already satisfied: textblob in /usr/local/lib/python3.11/dist-packages (0.19.0)\n",
            "Requirement already satisfied: nltk in /usr/local/lib/python3.11/dist-packages (3.9.1)\n",
            "Requirement already satisfied: openpyxl in /usr/local/lib/python3.11/dist-packages (3.1.5)\n",
            "Requirement already satisfied: python-dateutil>=2.8.2 in /usr/local/lib/python3.11/dist-packages (from pandas) (2.8.2)\n",
            "Requirement already satisfied: pytz>=2020.1 in /usr/local/lib/python3.11/dist-packages (from pandas) (2025.2)\n",
            "Requirement already satisfied: tzdata>=2022.7 in /usr/local/lib/python3.11/dist-packages (from pandas) (2025.2)\n",
            "Requirement already satisfied: click in /usr/local/lib/python3.11/dist-packages (from nltk) (8.1.8)\n",
            "Requirement already satisfied: joblib in /usr/local/lib/python3.11/dist-packages (from nltk) (1.4.2)\n",
            "Requirement already satisfied: regex>=2021.8.3 in /usr/local/lib/python3.11/dist-packages (from nltk) (2024.11.6)\n",
            "Requirement already satisfied: tqdm in /usr/local/lib/python3.11/dist-packages (from nltk) (4.67.1)\n",
            "Requirement already satisfied: et-xmlfile in /usr/local/lib/python3.11/dist-packages (from openpyxl) (2.0.0)\n",
            "Requirement already satisfied: six>=1.5 in /usr/local/lib/python3.11/dist-packages (from python-dateutil>=2.8.2->pandas) (1.17.0)\n"
          ]
        }
      ]
    },
    {
      "cell_type": "code",
      "source": [
        "import pandas as pd\n",
        "import numpy as np\n",
        "import re\n",
        "import nltk\n",
        "from textblob import TextBlob\n",
        "from nltk.corpus import stopwords\n",
        "from nltk.tokenize import word_tokenize"
      ],
      "metadata": {
        "id": "vOaHAPfipv_5"
      },
      "execution_count": null,
      "outputs": []
    },
    {
      "cell_type": "code",
      "source": [
        "nltk.download('punkt_tab')"
      ],
      "metadata": {
        "colab": {
          "base_uri": "https://localhost:8080/"
        },
        "id": "WhY7BDsZp513",
        "outputId": "672f49f9-0c71-4cbc-ae75-929866f6d5ca"
      },
      "execution_count": null,
      "outputs": [
        {
          "output_type": "stream",
          "name": "stderr",
          "text": [
            "[nltk_data] Downloading package punkt to /root/nltk_data...\n",
            "[nltk_data]   Package punkt is already up-to-date!\n"
          ]
        },
        {
          "output_type": "execute_result",
          "data": {
            "text/plain": [
              "True"
            ]
          },
          "metadata": {},
          "execution_count": 5
        }
      ]
    },
    {
      "cell_type": "code",
      "source": [
        "nltk.download('stopwords')"
      ],
      "metadata": {
        "colab": {
          "base_uri": "https://localhost:8080/"
        },
        "id": "VL2Zn-a4qAmo",
        "outputId": "cb760af7-400c-4b7a-eb14-e33054572523"
      },
      "execution_count": null,
      "outputs": [
        {
          "output_type": "stream",
          "name": "stderr",
          "text": [
            "[nltk_data] Downloading package stopwords to /root/nltk_data...\n",
            "[nltk_data]   Package stopwords is already up-to-date!\n"
          ]
        },
        {
          "output_type": "execute_result",
          "data": {
            "text/plain": [
              "True"
            ]
          },
          "metadata": {},
          "execution_count": 6
        }
      ]
    },
    {
      "cell_type": "code",
      "source": [
        "from nltk.tokenize import word_tokenize\n",
        "print(word_tokenize(\"This is a test sentence.\"))\n",
        "\n",
        "# Load dataset\n",
        "file_path = \"/content/combined dataset.xlsx\"\n",
        "xls = pd.ExcelFile(file_path)\n",
        "df = pd.read_excel(xls, sheet_name=\"webscrape_dataset\")\n",
        "\n",
        "# Select relevant columns\n",
        "df = df[['Source.Name', 'Column5']].copy()\n",
        "df.columns = ['Source', 'Content']\n",
        "\n",
        "# Remove header-like rows\n",
        "df = df[~df['Content'].str.lower().str.contains('content', na=False)]\n",
        "df.dropna(subset=['Content'], inplace=True)\n",
        "\n",
        "\n",
        "def preprocess_text(text):\n",
        "    text = str(text).lower()\n",
        "    text = re.sub(r'\\d+', '', text)  # Remove numbers\n",
        "    text = re.sub(r'\\s+', ' ', text)  # Remove extra spaces\n",
        "    text = re.sub(r'[^\\w\\s]', '', text)  # Remove punctuation\n",
        "    words = word_tokenize(text)\n",
        "\n",
        "    stop_words = set(stopwords.words('english'))\n",
        "    words = [word for word in words if word not in stop_words]  # Remove stopwords\n",
        "\n",
        "    return ' '.join(words)\n",
        "\n",
        "\n",
        "\n",
        "df['Cleaned_Content'] = df['Content'].apply(preprocess_text)\n",
        "\n",
        "# Sentiment Analysis Function\n",
        "def analyze_sentiment(text):\n",
        "    analysis = TextBlob(text)\n",
        "    polarity = analysis.sentiment.polarity\n",
        "    if polarity > 0:\n",
        "        return \"Positive\"\n",
        "    elif polarity < 0:\n",
        "        return \"Negative\"\n",
        "    else:\n",
        "        return \"Neutral\"\n",
        "\n",
        "# Apply Sentiment Analysis\n",
        "df['Sentiment'] = df['Cleaned_Content'].apply(analyze_sentiment)\n",
        "\n",
        "# Display results\n",
        "print(df[['Source', 'Sentiment']].head())\n",
        "\n",
        "# Save cleaned dataset\n",
        "df.to_csv(\"cleaned_webscrape_sentiment.csv\", index=False)\n",
        "print(\"✅ Cleaned dataset saved as 'cleaned_webscrape_sentiment.csv'\")\n"
      ],
      "metadata": {
        "colab": {
          "base_uri": "https://localhost:8080/"
        },
        "id": "qFVbID7apaHz",
        "outputId": "98210c4f-cffd-4f0a-c735-8015fd39341c"
      },
      "execution_count": null,
      "outputs": [
        {
          "output_type": "stream",
          "name": "stdout",
          "text": [
            "['This', 'is', 'a', 'test', 'sentence', '.']\n",
            "                                 Source Sentiment\n",
            "1  businessinsider_article_detailed.csv  Positive\n",
            "3           ecommerecebytes_article.csv  Negative\n",
            "5                     forbes_random.csv  Negative\n",
            "7               retaildive_article2.csv  Negative\n",
            "9               the_sun_article (1).csv  Positive\n",
            "✅ Cleaned dataset saved as 'cleaned_webscrape_sentiment.csv'\n"
          ]
        }
      ]
    },
    {
      "cell_type": "code",
      "source": [
        "import pandas as pd\n",
        "import matplotlib.pyplot as plt\n",
        "file_path = '/content/cleaned_webscrape_sentiment.csv'\n",
        "df = pd.read_csv(file_path)  # Load the file into a DataFrame\n",
        "sentiment_counts = df['Sentiment'].value_counts()\n",
        "sentiment_counts.plot(kind='bar', title='Sentiment Distribution for Generative AI Discussion')\n",
        "plt.xlabel('Sentiment')\n",
        "plt.ylabel('Count')\n",
        "plt.show()"
      ],
      "metadata": {
        "colab": {
          "base_uri": "https://localhost:8080/",
          "height": 520
        },
        "collapsed": true,
        "id": "vXfLC9eotJTc",
        "outputId": "90d9b7b4-60c4-4967-f17e-77fd2147613a"
      },
      "execution_count": null,
      "outputs": [
        {
          "output_type": "display_data",
          "data": {
            "text/plain": [
              "<Figure size 640x480 with 1 Axes>"
            ],
            "image/png": "[encoded data removed]"
          },
          "metadata": {}
        }
      ]
    },
    {
      "cell_type": "code",
      "source": [
        "import pandas as pd\n",
        "from sklearn.model_selection import train_test_split\n",
        "from sklearn.feature_extraction.text import CountVectorizer\n",
        "from sklearn.naive_bayes import MultinomialNB\n",
        "from sklearn.metrics import classification_report, accuracy_score\n",
        "import matplotlib.pyplot as plt\n",
        "\n",
        "# Load your cleaned dataset (make sure to adjust the path to your file)\n",
        "df = pd.read_csv(\"/content/cleaned_webscrape_sentiment.csv\")\n",
        "\n",
        "# You should already have a 'Cleaned_Text' column and a 'Sentiment' column after preprocessing.\n",
        "# Ensure these columns exist:\n",
        "print(df.head())\n",
        "\n",
        "# Splitting the dataset into features (X) and target (y)\n",
        "X = df['Cleaned_Content']  # Feature: cleaned text\n",
        "y = df['Sentiment']     # Target: sentiment (positive/negative/neutral)\n",
        "\n",
        "# Split data into training and testing sets\n",
        "X_train, X_test, y_train, y_test = train_test_split(X, y, test_size=0.3, random_state=42)\n",
        "\n",
        "# Vectorize the text using CountVectorizer\n",
        "vectorizer = CountVectorizer(stop_words='english')\n",
        "X_train_vect = vectorizer.fit_transform(X_train)  # Fit and transform the training data\n",
        "X_test_vect = vectorizer.transform(X_test)  # Transform the test data\n",
        "\n",
        "# Initialize and train the Naive Bayes model (MultinomialNB)\n",
        "model = MultinomialNB()\n",
        "model.fit(X_train_vect, y_train)\n",
        "\n",
        "# Predict on the test set\n",
        "y_pred = model.predict(X_test_vect)\n",
        "\n",
        "# Evaluate the model\n",
        "accuracy = accuracy_score(y_test, y_pred)\n",
        "print(f\"Accuracy: {accuracy:.4f}\")\n",
        "print(\"Classification Report:\")\n",
        "print(classification_report(y_test, y_pred))\n",
        "\n",
        "# Optionally, plot a confusion matrix\n",
        "from sklearn.metrics import confusion_matrix\n",
        "import seaborn as sns\n",
        "\n",
        "cm = confusion_matrix(y_test, y_pred, labels=model.classes_)\n",
        "plt.figure(figsize=(6,6))\n",
        "sns.heatmap(cm, annot=True, fmt='d', cmap='Blues', xticklabels=model.classes_, yticklabels=model.classes_)\n",
        "plt.ylabel('Actual')\n",
        "plt.xlabel('Predicted')\n",
        "plt.title('Confusion Matrix')\n",
        "plt.show()\n",
        "\n"
      ],
      "metadata": {
        "colab": {
          "base_uri": "https://localhost:8080/",
          "height": 1000
        },
        "collapsed": true,
        "id": "ers37Goruyh_",
        "outputId": "bd63bb4a-c3e4-41b0-cc95-3484f1d4b475"
      },
      "execution_count": null,
      "outputs": [
        {
          "output_type": "stream",
          "name": "stdout",
          "text": [
            "                                 Source  \\\n",
            "0  businessinsider_article_detailed.csv   \n",
            "1           ecommerecebytes_article.csv   \n",
            "2                     forbes_random.csv   \n",
            "3               retaildive_article2.csv   \n",
            "4               the_sun_article (1).csv   \n",
            "\n",
            "                                             Content  \\\n",
            "0  Shopping looks a little different these days.B...   \n",
            "1  Sponsored Link\\nOnline Shopping Memberships: W...   \n",
            "2  No, we're not talking about dancing avatars in...   \n",
            "3  As consumers and retail leaders alike observe ...   \n",
            "4  FOR some people, trying on clothes is a drag.\\...   \n",
            "\n",
            "                                     Cleaned_Content Sentiment  \n",
            "0  shopping looks little different daysbrickandmo...  Positive  \n",
            "1  sponsored link online shopping memberships wal...  Negative  \n",
            "2  talking dancing avatars virtual malls retail i...  Negative  \n",
            "3  consumers retail leaders alike observe fiveyea...  Negative  \n",
            "4  people trying clothes drag picking items waiti...  Positive  \n",
            "Accuracy: 0.3333\n",
            "Classification Report:\n",
            "              precision    recall  f1-score   support\n",
            "\n",
            "    Negative       0.00      0.00      0.00         1\n",
            "    Positive       0.50      0.50      0.50         2\n",
            "\n",
            "    accuracy                           0.33         3\n",
            "   macro avg       0.25      0.25      0.25         3\n",
            "weighted avg       0.33      0.33      0.33         3\n",
            "\n"
          ]
        },
        {
          "output_type": "display_data",
          "data": {
            "text/plain": [
              "<Figure size 600x600 with 2 Axes>"
            ],
            "image/png": "[encoded data removed]"
          },
          "metadata": {}
        }
      ]
    }
  ]
}